{
 "cells": [
  {
   "cell_type": "code",
   "execution_count": 1,
   "id": "610a5e7f",
   "metadata": {},
   "outputs": [],
   "source": [
    "import socket as s\n",
    "import cv2\n",
    "import pickle\n",
    "import struct\n",
    "import imutils"
   ]
  },
  {
   "cell_type": "code",
   "execution_count": 2,
   "id": "6cfb4158",
   "metadata": {},
   "outputs": [
    {
     "name": "stdout",
     "output_type": "stream",
     "text": [
      "HOST IP: 192.168.56.1\n"
     ]
    }
   ],
   "source": [
    "server_s=s.socket(s.AF_INET,s.SOCK_STREAM)\n",
    "host_name=s.gethostname()\n",
    "host_ip=s.gethostbyname(host_name)\n",
    "print('HOST IP:',host_ip)"
   ]
  },
  {
   "cell_type": "code",
   "execution_count": 3,
   "id": "cfbdd319",
   "metadata": {},
   "outputs": [
    {
     "name": "stdout",
     "output_type": "stream",
     "text": [
      "socket created successfully\n"
     ]
    }
   ],
   "source": [
    "port=1005\n",
    "s_address=(host_ip,port)\n",
    "print(\"socket created successfully\")"
   ]
  },
  {
   "cell_type": "code",
   "execution_count": 4,
   "id": "ef2b04e1",
   "metadata": {},
   "outputs": [
    {
     "name": "stdout",
     "output_type": "stream",
     "text": [
      "socket bind successfully\n"
     ]
    }
   ],
   "source": [
    "server_s.bind(s_address)\n",
    "print(\"socket bind successfully\")"
   ]
  },
  {
   "cell_type": "code",
   "execution_count": 5,
   "id": "5d46c1ee",
   "metadata": {},
   "outputs": [
    {
     "name": "stdout",
     "output_type": "stream",
     "text": [
      "listening at: ('192.168.56.1', 1005)\n",
      "socket accepted\n"
     ]
    }
   ],
   "source": [
    "server_s.listen(5)\n",
    "print(\"listening at:\",s_address)\n",
    "print(\"socket accepted\")\n",
    "            "
   ]
  },
  {
   "cell_type": "code",
   "execution_count": null,
   "id": "5ebc043f",
   "metadata": {},
   "outputs": [
    {
     "name": "stdout",
     "output_type": "stream",
     "text": [
      "Connection from: ('192.168.56.1', 51827)\n"
     ]
    }
   ],
   "source": [
    "while True:\n",
    "    client_s,address = server_s.accept()\n",
    "    print('Connection from:',address)\n",
    "    if client_s:\n",
    "        vid = cv2.VideoCapture(0)\n",
    "    \n",
    "        while(vid.isOpened()):\n",
    "            img,frame = vid.read()\n",
    "            a = pickle.dumps(frame)\n",
    "            message = struct.pack(\"Q\",len(a))+a\n",
    "            client_s.sendall(message)\n",
    "            \n",
    "            cv2.imshow('Sending...',frame)\n",
    "            key = cv2.waitKey(10) \n",
    "            if key ==13:\n",
    "                client_s.close()"
   ]
  },
  {
   "cell_type": "code",
   "execution_count": null,
   "id": "e0c22aca",
   "metadata": {},
   "outputs": [],
   "source": []
  },
  {
   "cell_type": "code",
   "execution_count": null,
   "id": "27015f18",
   "metadata": {},
   "outputs": [],
   "source": []
  },
  {
   "cell_type": "markdown",
   "id": "0dd94e7c",
   "metadata": {},
   "source": []
  },
  {
   "cell_type": "code",
   "execution_count": null,
   "id": "b5389a87",
   "metadata": {},
   "outputs": [],
   "source": []
  },
  {
   "cell_type": "code",
   "execution_count": null,
   "id": "e138447a",
   "metadata": {},
   "outputs": [],
   "source": []
  },
  {
   "cell_type": "code",
   "execution_count": null,
   "id": "ee4ed2e0",
   "metadata": {},
   "outputs": [],
   "source": []
  }
 ],
 "metadata": {
  "kernelspec": {
   "display_name": "Python 3",
   "language": "python",
   "name": "python3"
  },
  "language_info": {
   "codemirror_mode": {
    "name": "ipython",
    "version": 3
   },
   "file_extension": ".py",
   "mimetype": "text/x-python",
   "name": "python",
   "nbconvert_exporter": "python",
   "pygments_lexer": "ipython3",
   "version": "3.8.8"
  }
 },
 "nbformat": 4,
 "nbformat_minor": 5
}
