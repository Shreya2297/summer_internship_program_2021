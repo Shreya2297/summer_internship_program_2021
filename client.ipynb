{
 "cells": [
  {
   "cell_type": "code",
   "execution_count": 5,
   "id": "5e69f37a",
   "metadata": {},
   "outputs": [],
   "source": [
    "import socket as s\n",
    "import cv2\n",
    "import pickle\n",
    "import struct\n",
    "import imutils"
   ]
  },
  {
   "cell_type": "code",
   "execution_count": 6,
   "id": "3fccef01",
   "metadata": {},
   "outputs": [],
   "source": [
    "client_s=s.socket(s.AF_INET,s.SOCK_STREAM)\n",
    "host_ip='192.168.56.1'\n",
    "port=1005"
   ]
  },
  {
   "cell_type": "code",
   "execution_count": 7,
   "id": "f958be4b",
   "metadata": {},
   "outputs": [],
   "source": [
    "client_s.connect((host_ip,port)) \n",
    "data = b\"\"\n",
    "payload_size = struct.calcsize(\"Q\")\n"
   ]
  },
  {
   "cell_type": "code",
   "execution_count": null,
   "id": "d96c3dd0",
   "metadata": {},
   "outputs": [],
   "source": [
    "while True:\n",
    "    while len(data)<payload_size:\n",
    "        packet = client_s.recv(4*1024)\n",
    "        if not packet: break\n",
    "        data+=packet\n",
    "    packed_msg_size = data[:payload_size]\n",
    "    data = data[payload_size:]\n",
    "    msg_size = struct.unpack(\"Q\",packed_msg_size)[0]\n",
    "\n",
    "    while len(data) < msg_size:\n",
    "        data += client_s.recv(4*1024)\n",
    "    frame_data = data[:msg_size]\n",
    "    data  = data[msg_size:]\n",
    "    frame = pickle.loads(frame_data)\n",
    "    cv2.imshow(\"Receiving..\",frame)\n",
    "    key = cv2.waitKey(10) \n",
    "    if key  == 13:\n",
    "        break\n",
    "client_s.close()"
   ]
  },
  {
   "cell_type": "code",
   "execution_count": null,
   "id": "29975055",
   "metadata": {},
   "outputs": [],
   "source": []
  },
  {
   "cell_type": "code",
   "execution_count": null,
   "id": "d361888a",
   "metadata": {},
   "outputs": [],
   "source": []
  }
 ],
 "metadata": {
  "kernelspec": {
   "display_name": "Python 3",
   "language": "python",
   "name": "python3"
  },
  "language_info": {
   "codemirror_mode": {
    "name": "ipython",
    "version": 3
   },
   "file_extension": ".py",
   "mimetype": "text/x-python",
   "name": "python",
   "nbconvert_exporter": "python",
   "pygments_lexer": "ipython3",
   "version": "3.8.8"
  }
 },
 "nbformat": 4,
 "nbformat_minor": 5
}
